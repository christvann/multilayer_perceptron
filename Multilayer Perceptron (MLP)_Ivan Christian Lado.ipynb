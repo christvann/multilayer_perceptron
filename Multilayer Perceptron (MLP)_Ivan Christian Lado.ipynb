{
 "cells": [
  {
   "cell_type": "code",
   "execution_count": 1,
   "id": "20a170c3",
   "metadata": {},
   "outputs": [],
   "source": [
    "import pandas as pd\n",
    "from sklearn.model_selection import train_test_split\n",
    "from sklearn.preprocessing import StandardScaler, LabelEncoder\n",
    "from sklearn.neural_network import MLPRegressor"
   ]
  },
  {
   "cell_type": "markdown",
   "id": "5d98455d",
   "metadata": {},
   "source": [
    "Mengimport library yg akan dipakai untuk mengelola data"
   ]
  },
  {
   "cell_type": "code",
   "execution_count": 2,
   "id": "d7f0c001",
   "metadata": {},
   "outputs": [],
   "source": [
    "train_data = pd.read_csv('train-data.csv', sep=';')\n",
    "test_data = pd.read_csv('test-data.csv', sep=';')"
   ]
  },
  {
   "cell_type": "markdown",
   "id": "b915a690",
   "metadata": {},
   "source": [
    "Menampilkan data dari kedua dataset yaitu train-data dan test-data, dengan memberikan space pemisah agar tampilan data rapi"
   ]
  },
  {
   "cell_type": "code",
   "execution_count": 3,
   "id": "44c55240",
   "metadata": {},
   "outputs": [
    {
     "name": "stdout",
     "output_type": "stream",
     "text": [
      "   Unnamed: 0                              Name    Location  Year  \\\n",
      "0           0            Maruti Wagon R LXI CNG      Mumbai  2010   \n",
      "1           1  Hyundai Creta 1.6 CRDi SX Option        Pune  2015   \n",
      "2           2                      Honda Jazz V     Chennai  2011   \n",
      "3           3                 Maruti Ertiga VDI     Chennai  2012   \n",
      "4           4   Audi A4 New 2.0 TDI Multitronic  Coimbatore  2013   \n",
      "\n",
      "   Kilometers_Driven Fuel_Type Transmission Owner_Type     Mileage   Engine  \\\n",
      "0              72000       CNG       Manual      First  26.6 km/kg   998 CC   \n",
      "1              41000    Diesel       Manual      First  19.67 kmpl  1582 CC   \n",
      "2              46000    Petrol       Manual      First   18.2 kmpl  1199 CC   \n",
      "3              87000    Diesel       Manual      First  20.77 kmpl  1248 CC   \n",
      "4              40670    Diesel    Automatic     Second   15.2 kmpl  1968 CC   \n",
      "\n",
      "       Power  Seats  New_Price        Price  \n",
      "0  58.16 bhp    5.0        NaN      0,09375  \n",
      "1  126.2 bhp    5.0        NaN        12.05  \n",
      "2   88.7 bhp    5.0  8.61 Lakh        04.05  \n",
      "3  88.76 bhp    7.0        NaN        06.00  \n",
      "4  140.8 bhp    5.0        NaN  0,759722222  \n",
      "   Unnamed: 0                                       Name    Location  Year  \\\n",
      "0           0                    Maruti Alto K10 LXI CNG       Delhi  2014   \n",
      "1           1              Maruti Alto 800 2016-2019 LXI  Coimbatore  2013   \n",
      "2           2  Toyota Innova Crysta Touring Sport 2.4 MT      Mumbai  2017   \n",
      "3           3                       Toyota Etios Liva GD   Hyderabad  2012   \n",
      "4           4                          Hyundai i20 Magna      Mumbai  2014   \n",
      "\n",
      "   Kilometers_Driven Fuel_Type Transmission Owner_Type      Mileage   Engine  \\\n",
      "0              40929       CNG       Manual      First  32.26 km/kg   998 CC   \n",
      "1              54493    Petrol       Manual     Second    24.7 kmpl   796 CC   \n",
      "2              34000    Diesel       Manual      First   13.68 kmpl  2393 CC   \n",
      "3             139000    Diesel       Manual      First   23.59 kmpl  1364 CC   \n",
      "4              29000    Petrol       Manual      First    18.5 kmpl  1197 CC   \n",
      "\n",
      "       Power  Seats   New_Price  \n",
      "0   58.2 bhp    4.0         NaN  \n",
      "1   47.3 bhp    5.0         NaN  \n",
      "2  147.8 bhp    7.0  25.27 Lakh  \n",
      "3   null bhp    5.0         NaN  \n",
      "4  82.85 bhp    5.0         NaN  \n"
     ]
    }
   ],
   "source": [
    "print(train_data.head())\n",
    "print(test_data.head())"
   ]
  },
  {
   "cell_type": "markdown",
   "id": "c7abb998",
   "metadata": {},
   "source": [
    "Menampilkan data dari kedua dataset"
   ]
  },
  {
   "cell_type": "code",
   "execution_count": 4,
   "id": "9ff5eb21",
   "metadata": {},
   "outputs": [],
   "source": [
    "def clean_data(data):\n",
    "    data['Mileage'] = data['Mileage'].astype(str).str.replace(' km/kg', '').str.replace(' kmpl', '')\n",
    "    data['Mileage'] = pd.to_numeric(data['Mileage'], errors='coerce')  # Convert to float\n",
    "\n",
    "    data['Engine'] = data['Engine'].astype(str).str.replace(' CC', '')\n",
    "    data['Engine'] = pd.to_numeric(data['Engine'], errors='coerce')  # Convert to float\n",
    "\n",
    "    data['Power'] = data['Power'].astype(str).str.replace(' bhp', '').replace('null', '')\n",
    "    data['Power'] = pd.to_numeric(data['Power'], errors='coerce')  # Convert to float\n",
    "\n",
    "    data['New_Price'] = data['New_Price'].astype(str).str.replace(' Lakh', '').replace('0', '')\n",
    "    data['New_Price'] = pd.to_numeric(data['New_Price'], errors='coerce') * 100000  # Convert to float\n",
    "\n",
    "    data['Price'] = data['Price'].astype(str).str.replace(',', '').replace('null', '')\n",
    "    data['Price'] = pd.to_numeric(data['Price'], errors='coerce')  # Convert to float\n",
    "    \n",
    "    return data"
   ]
  },
  {
   "cell_type": "markdown",
   "id": "a847d089",
   "metadata": {},
   "source": [
    "Mengconvert type data menjadi float agar dataset dapat diolah menggunakan multilayer perceptron"
   ]
  },
  {
   "cell_type": "code",
   "execution_count": 5,
   "id": "7cc3155c",
   "metadata": {},
   "outputs": [],
   "source": [
    "train_data = train_data.drop(columns=['Price'])"
   ]
  },
  {
   "cell_type": "markdown",
   "id": "f1cb979a",
   "metadata": {},
   "source": [
    "Drop/Menghapus kolom Price dari dataset train_data, karena kolom tersebut hanya berada di satu dataset jadi saya menghapusnya agar lebih mudah dalam pengelolaan datasetnya"
   ]
  },
  {
   "cell_type": "code",
   "execution_count": 6,
   "id": "4bc6fa15",
   "metadata": {},
   "outputs": [
    {
     "name": "stdout",
     "output_type": "stream",
     "text": [
      "   Unnamed: 0                              Name    Location  Year  \\\n",
      "0           0            Maruti Wagon R LXI CNG      Mumbai  2010   \n",
      "1           1  Hyundai Creta 1.6 CRDi SX Option        Pune  2015   \n",
      "2           2                      Honda Jazz V     Chennai  2011   \n",
      "3           3                 Maruti Ertiga VDI     Chennai  2012   \n",
      "4           4   Audi A4 New 2.0 TDI Multitronic  Coimbatore  2013   \n",
      "\n",
      "   Kilometers_Driven Fuel_Type Transmission Owner_Type     Mileage   Engine  \\\n",
      "0              72000       CNG       Manual      First  26.6 km/kg   998 CC   \n",
      "1              41000    Diesel       Manual      First  19.67 kmpl  1582 CC   \n",
      "2              46000    Petrol       Manual      First   18.2 kmpl  1199 CC   \n",
      "3              87000    Diesel       Manual      First  20.77 kmpl  1248 CC   \n",
      "4              40670    Diesel    Automatic     Second   15.2 kmpl  1968 CC   \n",
      "\n",
      "       Power  Seats  New_Price  \n",
      "0  58.16 bhp    5.0        NaN  \n",
      "1  126.2 bhp    5.0        NaN  \n",
      "2   88.7 bhp    5.0  8.61 Lakh  \n",
      "3  88.76 bhp    7.0        NaN  \n",
      "4  140.8 bhp    5.0        NaN  \n"
     ]
    }
   ],
   "source": [
    "print(train_data.head())"
   ]
  },
  {
   "cell_type": "markdown",
   "id": "a32371a2",
   "metadata": {},
   "source": [
    "Ini tampilan data setelah drop column"
   ]
  },
  {
   "cell_type": "code",
   "execution_count": 7,
   "id": "d4baeb10",
   "metadata": {},
   "outputs": [],
   "source": [
    "def clean_data(data):\n",
    "    # Ensure all columns are strings before applying string operations\n",
    "    data['Mileage'] = data['Mileage'].astype(str).str.replace(' km/kg', '').str.replace(' kmpl', '')\n",
    "    data['Mileage'] = pd.to_numeric(data['Mileage'], errors='coerce')  # Convert to float, set errors to NaN\n",
    "\n",
    "    data['Engine'] = data['Engine'].astype(str).str.replace(' CC', '')\n",
    "    data['Engine'] = pd.to_numeric(data['Engine'], errors='coerce')  # Convert to float, set errors to NaN\n",
    "\n",
    "    data['Power'] = data['Power'].astype(str).str.replace(' bhp', '').replace('null', '')\n",
    "    data['Power'] = pd.to_numeric(data['Power'], errors='coerce')  # Convert to float, set errors to NaN\n",
    "\n",
    "    data['New_Price'] = data['New_Price'].astype(str).str.replace(' Lakh', '').replace('0', '')\n",
    "    data['New_Price'] = pd.to_numeric(data['New_Price'], errors='coerce') * 100000  # Convert to float, set errors to NaN\n",
    "    \n",
    "    return data"
   ]
  },
  {
   "cell_type": "markdown",
   "id": "249407a7",
   "metadata": {},
   "source": [
    "Mengconvert kembali type data menjadi float agar dataset dapat diolah menggunakan multilayer perceptron, karena sebelumnya drop column"
   ]
  },
  {
   "cell_type": "code",
   "execution_count": 8,
   "id": "be095e6f",
   "metadata": {},
   "outputs": [],
   "source": [
    "train_data = clean_data(train_data)\n",
    "test_data = clean_data(test_data)"
   ]
  },
  {
   "cell_type": "markdown",
   "id": "de4de9d4",
   "metadata": {},
   "source": [
    "clean_data digunakan untuk membersihkan data sebelum digunakan dalam training agar tidak mengganggu proses pelatihan dan evaluasi model"
   ]
  },
  {
   "cell_type": "code",
   "execution_count": 9,
   "id": "42b95b5c",
   "metadata": {},
   "outputs": [],
   "source": [
    "target_column = 'Mileage'"
   ]
  },
  {
   "cell_type": "markdown",
   "id": "385333c6",
   "metadata": {},
   "source": [
    "Merupakan column yg ingin diprediksi dalam model MLP"
   ]
  },
  {
   "cell_type": "code",
   "execution_count": 10,
   "id": "43e7c959",
   "metadata": {},
   "outputs": [],
   "source": [
    "X_train = train_data.drop(columns=[target_column])\n",
    "y_train = train_data[target_column]"
   ]
  },
  {
   "cell_type": "markdown",
   "id": "46553965",
   "metadata": {},
   "source": [
    "X_train berisi semua fitur yang digunakan untuk training dan y_train berisi nilai yang ingin diprediksi (Mileage)"
   ]
  },
  {
   "cell_type": "code",
   "execution_count": 11,
   "id": "18a8daee",
   "metadata": {},
   "outputs": [],
   "source": [
    "X_test = test_data.drop(columns=[target_column])\n",
    "y_test = test_data[target_column]"
   ]
  },
  {
   "cell_type": "markdown",
   "id": "e54f7692",
   "metadata": {},
   "source": [
    "X_test berisi semua fitur yang digunakan untuk testing data dan y_test berisi nilai yang digunakan untuk mengevaluasi hasil prediksi dari model (Mileage)"
   ]
  },
  {
   "cell_type": "code",
   "execution_count": 12,
   "id": "36f29b2a",
   "metadata": {},
   "outputs": [],
   "source": [
    "X_train = pd.get_dummies(X_train)\n",
    "X_test = pd.get_dummies(X_test)"
   ]
  },
  {
   "cell_type": "markdown",
   "id": "d920f5fc",
   "metadata": {},
   "source": [
    "Fungsi pd.get_dummies(X_train) akan mengonversi semua kolom kategori dalam X_train menjadi kolom biner (0 atau 1), di mana setiap kategori yang ada dalam kolom tersebut akan menjadi kolom baru. Ini diterapkan pada kedua dataset, X_train dan X_test, untuk memastikan bahwa model dapat menggunakan fitur kategori yang ada dalam kedua dataset dengan cara yang sama"
   ]
  },
  {
   "cell_type": "code",
   "execution_count": 13,
   "id": "73e264fd",
   "metadata": {},
   "outputs": [],
   "source": [
    "X_train, X_test = X_train.align(X_test, join='left', axis=1, fill_value=0)"
   ]
  },
  {
   "cell_type": "markdown",
   "id": "8a942b88",
   "metadata": {},
   "source": [
    "align() digunakan untuk memastikan bahwa X_train dan X_test memiliki kolom yang sama setelah proses pengconvertan tadi"
   ]
  },
  {
   "cell_type": "code",
   "execution_count": 14,
   "id": "8068e5e6",
   "metadata": {},
   "outputs": [],
   "source": [
    "scaler = StandardScaler()\n",
    "X_train_scaled = scaler.fit_transform(X_train)\n",
    "X_test_scaled = scaler.transform(X_test)"
   ]
  },
  {
   "cell_type": "markdown",
   "id": "869c7a7f",
   "metadata": {},
   "source": [
    "StandardScaler memastikan bahwa setiap fitur dalam data pelatihan dan data uji memiliki distribusi yang sama, langkah ini dilakukan dengan menghitung statistik pada X_train dan menggunakan statistik tersebut untuk mentransformasikan kedua dataset tersebut"
   ]
  },
  {
   "cell_type": "code",
   "execution_count": 15,
   "id": "ead00a20",
   "metadata": {},
   "outputs": [],
   "source": [
    "from sklearn.impute import SimpleImputer\n",
    "from sklearn.pipeline import make_pipeline\n",
    "\n",
    "imputer = SimpleImputer(strategy='mean')"
   ]
  },
  {
   "cell_type": "markdown",
   "id": "624ef493",
   "metadata": {},
   "source": [
    "SimpleImputer digunakan untuk mengatasi missing values dalam dataset dengan mengisi nilai yang hilang, dalam hal ini mean"
   ]
  },
  {
   "cell_type": "code",
   "execution_count": 16,
   "id": "82635e09",
   "metadata": {},
   "outputs": [],
   "source": [
    "pipeline = make_pipeline(imputer, StandardScaler())"
   ]
  },
  {
   "cell_type": "code",
   "execution_count": 17,
   "id": "afd7b06d",
   "metadata": {},
   "outputs": [],
   "source": [
    "X_train_scaled = pipeline.fit_transform(X_train)\n",
    "X_test_scaled = pipeline.transform(X_test)\n",
    "\n",
    "target_imputer = SimpleImputer(strategy='mean')"
   ]
  },
  {
   "cell_type": "markdown",
   "id": "91f29092",
   "metadata": {},
   "source": [
    "target_imputer = SimpleImputer(strategy='mean') digunakan untuk mengisi nilai yang hilang pada variabel target dengan rata-rata, memastikan data target siap digunakan untuk pelatihan model tanpa kehilangan informasi penting"
   ]
  },
  {
   "cell_type": "code",
   "execution_count": 18,
   "id": "901ef226",
   "metadata": {},
   "outputs": [],
   "source": [
    "y_train_imputed = target_imputer.fit_transform(y_train.values.reshape(-1, 1))\n",
    "y_test_imputed = target_imputer.transform(y_test.values.reshape(-1, 1))"
   ]
  },
  {
   "cell_type": "markdown",
   "id": "c8bbde94",
   "metadata": {},
   "source": [
    "y_train_imputed = target_imputer.fit_transform(y_train.values.reshape(-1, 1)) digunakan untuk mengimputasi nilai yang hilang dalam variabel target di data pelatihan dengan nilai rata-rata, sedangkan y_test_imputed = target_imputer.transform(y_test.values.reshape(-1, 1)) digunakan untuk mengimputasi nilai yang hilang dalam variabel target di data pengujian dengan nilai rata-rata yang dihitung dari data pelatihan, menjaga agar tidak terjadi data leakage dan memastikan evaluasi yang benar"
   ]
  },
  {
   "cell_type": "code",
   "execution_count": 19,
   "id": "6b991852",
   "metadata": {},
   "outputs": [
    {
     "name": "stderr",
     "output_type": "stream",
     "text": [
      "D:\\Anaconda3\\Lib\\site-packages\\sklearn\\neural_network\\_multilayer_perceptron.py:1625: DataConversionWarning: A column-vector y was passed when a 1d array was expected. Please change the shape of y to (n_samples, ), for example using ravel().\n",
      "  y = column_or_1d(y, warn=True)\n"
     ]
    },
    {
     "data": {
      "text/html": [
       "<style>#sk-container-id-1 {color: black;}#sk-container-id-1 pre{padding: 0;}#sk-container-id-1 div.sk-toggleable {background-color: white;}#sk-container-id-1 label.sk-toggleable__label {cursor: pointer;display: block;width: 100%;margin-bottom: 0;padding: 0.3em;box-sizing: border-box;text-align: center;}#sk-container-id-1 label.sk-toggleable__label-arrow:before {content: \"▸\";float: left;margin-right: 0.25em;color: #696969;}#sk-container-id-1 label.sk-toggleable__label-arrow:hover:before {color: black;}#sk-container-id-1 div.sk-estimator:hover label.sk-toggleable__label-arrow:before {color: black;}#sk-container-id-1 div.sk-toggleable__content {max-height: 0;max-width: 0;overflow: hidden;text-align: left;background-color: #f0f8ff;}#sk-container-id-1 div.sk-toggleable__content pre {margin: 0.2em;color: black;border-radius: 0.25em;background-color: #f0f8ff;}#sk-container-id-1 input.sk-toggleable__control:checked~div.sk-toggleable__content {max-height: 200px;max-width: 100%;overflow: auto;}#sk-container-id-1 input.sk-toggleable__control:checked~label.sk-toggleable__label-arrow:before {content: \"▾\";}#sk-container-id-1 div.sk-estimator input.sk-toggleable__control:checked~label.sk-toggleable__label {background-color: #d4ebff;}#sk-container-id-1 div.sk-label input.sk-toggleable__control:checked~label.sk-toggleable__label {background-color: #d4ebff;}#sk-container-id-1 input.sk-hidden--visually {border: 0;clip: rect(1px 1px 1px 1px);clip: rect(1px, 1px, 1px, 1px);height: 1px;margin: -1px;overflow: hidden;padding: 0;position: absolute;width: 1px;}#sk-container-id-1 div.sk-estimator {font-family: monospace;background-color: #f0f8ff;border: 1px dotted black;border-radius: 0.25em;box-sizing: border-box;margin-bottom: 0.5em;}#sk-container-id-1 div.sk-estimator:hover {background-color: #d4ebff;}#sk-container-id-1 div.sk-parallel-item::after {content: \"\";width: 100%;border-bottom: 1px solid gray;flex-grow: 1;}#sk-container-id-1 div.sk-label:hover label.sk-toggleable__label {background-color: #d4ebff;}#sk-container-id-1 div.sk-serial::before {content: \"\";position: absolute;border-left: 1px solid gray;box-sizing: border-box;top: 0;bottom: 0;left: 50%;z-index: 0;}#sk-container-id-1 div.sk-serial {display: flex;flex-direction: column;align-items: center;background-color: white;padding-right: 0.2em;padding-left: 0.2em;position: relative;}#sk-container-id-1 div.sk-item {position: relative;z-index: 1;}#sk-container-id-1 div.sk-parallel {display: flex;align-items: stretch;justify-content: center;background-color: white;position: relative;}#sk-container-id-1 div.sk-item::before, #sk-container-id-1 div.sk-parallel-item::before {content: \"\";position: absolute;border-left: 1px solid gray;box-sizing: border-box;top: 0;bottom: 0;left: 50%;z-index: -1;}#sk-container-id-1 div.sk-parallel-item {display: flex;flex-direction: column;z-index: 1;position: relative;background-color: white;}#sk-container-id-1 div.sk-parallel-item:first-child::after {align-self: flex-end;width: 50%;}#sk-container-id-1 div.sk-parallel-item:last-child::after {align-self: flex-start;width: 50%;}#sk-container-id-1 div.sk-parallel-item:only-child::after {width: 0;}#sk-container-id-1 div.sk-dashed-wrapped {border: 1px dashed gray;margin: 0 0.4em 0.5em 0.4em;box-sizing: border-box;padding-bottom: 0.4em;background-color: white;}#sk-container-id-1 div.sk-label label {font-family: monospace;font-weight: bold;display: inline-block;line-height: 1.2em;}#sk-container-id-1 div.sk-label-container {text-align: center;}#sk-container-id-1 div.sk-container {/* jupyter's `normalize.less` sets `[hidden] { display: none; }` but bootstrap.min.css set `[hidden] { display: none !important; }` so we also need the `!important` here to be able to override the default hidden behavior on the sphinx rendered scikit-learn.org. See: https://github.com/scikit-learn/scikit-learn/issues/21755 */display: inline-block !important;position: relative;}#sk-container-id-1 div.sk-text-repr-fallback {display: none;}</style><div id=\"sk-container-id-1\" class=\"sk-top-container\"><div class=\"sk-text-repr-fallback\"><pre>MLPRegressor(max_iter=1000)</pre><b>In a Jupyter environment, please rerun this cell to show the HTML representation or trust the notebook. <br />On GitHub, the HTML representation is unable to render, please try loading this page with nbviewer.org.</b></div><div class=\"sk-container\" hidden><div class=\"sk-item\"><div class=\"sk-estimator sk-toggleable\"><input class=\"sk-toggleable__control sk-hidden--visually\" id=\"sk-estimator-id-1\" type=\"checkbox\" checked><label for=\"sk-estimator-id-1\" class=\"sk-toggleable__label sk-toggleable__label-arrow\">MLPRegressor</label><div class=\"sk-toggleable__content\"><pre>MLPRegressor(max_iter=1000)</pre></div></div></div></div></div>"
      ],
      "text/plain": [
       "MLPRegressor(max_iter=1000)"
      ]
     },
     "execution_count": 19,
     "metadata": {},
     "output_type": "execute_result"
    }
   ],
   "source": [
    "mlp = MLPRegressor(hidden_layer_sizes=(100,), max_iter=1000)\n",
    "mlp.fit(X_train_scaled, y_train_imputed)"
   ]
  },
  {
   "cell_type": "code",
   "execution_count": 20,
   "id": "71b7ff76",
   "metadata": {},
   "outputs": [],
   "source": [
    "y_pred = mlp.predict(X_test_scaled)"
   ]
  },
  {
   "cell_type": "markdown",
   "id": "068ec9af",
   "metadata": {},
   "source": [
    "mlp.predict(X_test_scaled) digunakan untuk menghasilkan prediksi dari model MLPRegressor yang telah dilatih pada data training. Hasil prediksi y_pred ini kemudian bisa digunakan untuk mengevaluasi kinerja model"
   ]
  },
  {
   "cell_type": "code",
   "execution_count": 21,
   "id": "8051afed",
   "metadata": {},
   "outputs": [
    {
     "name": "stdout",
     "output_type": "stream",
     "text": [
      "Mean Absolute Error: 0.8813049224987192\n"
     ]
    }
   ],
   "source": [
    "from sklearn.metrics import mean_absolute_error\n",
    "mae = mean_absolute_error(y_test, y_pred)\n",
    "print(f'Mean Absolute Error: {mae}')"
   ]
  },
  {
   "cell_type": "markdown",
   "id": "29a027ab",
   "metadata": {},
   "source": [
    "MAE = 0.8813 menunjukkan bahwa model rata-rata memiliki kesalahan prediksi sekitar 0.88\n",
    "MAE yang lebih rendah menunjukkan performa model yang lebih baik, karena kesalahan prediksi rata-rata lebih kecil"
   ]
  },
  {
   "cell_type": "code",
   "execution_count": 22,
   "id": "63492b5c",
   "metadata": {},
   "outputs": [
    {
     "data": {
      "image/png": "[encoded data removed]",
      "text/plain": [
       "<Figure size 1000x600 with 1 Axes>"
      ]
     },
     "metadata": {},
     "output_type": "display_data"
    }
   ],
   "source": [
    "import matplotlib.pyplot as plt\n",
    "\n",
    "# Scatter plot untuk membandingkan nilai sebenarnya dengan nilai yang diprediksi\n",
    "plt.figure(figsize=(10, 6))\n",
    "plt.scatter(y_test, y_pred, color='red', label='Prediksi vs Sebenarnya')\n",
    "\n",
    "# Menambahkan garis diagonal untuk perbandingan yang lebih baik (ideal line)\n",
    "plt.plot([y_test.min(), y_test.max()], [y_test.min(), y_test.max()], color='blue', linestyle='--', label='Ideal')\n",
    "\n",
    "# Menambahkan judul dan label\n",
    "plt.title('Perbandingan Nilai Sebenarnya dan Nilai Prediksi Mileage', fontsize=14)\n",
    "plt.xlabel('Nilai Sebenarnya', fontsize=12)\n",
    "plt.ylabel('Nilai Prediksi', fontsize=12)\n",
    "\n",
    "# Menambahkan legenda\n",
    "plt.legend()\n",
    "\n",
    "# Menampilkan grafik\n",
    "plt.show()\n"
   ]
  }
 ],
 "metadata": {
  "kernelspec": {
   "display_name": "Python 3 (ipykernel)",
   "language": "python",
   "name": "python3"
  },
  "language_info": {
   "codemirror_mode": {
    "name": "ipython",
    "version": 3
   },
   "file_extension": ".py",
   "mimetype": "text/x-python",
   "name": "python",
   "nbconvert_exporter": "python",
   "pygments_lexer": "ipython3",
   "version": "3.11.5"
  }
 },
 "nbformat": 4,
 "nbformat_minor": 5
}
